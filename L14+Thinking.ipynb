{
 "cells": [
  {
   "cell_type": "markdown",
   "metadata": {},
   "source": [
    "一.常用的路径规划方法:\n",
    "\n",
    "1.Dijkstra:遍历各节点,依次计算各个节点之间的距离,生成邻接矩阵,计算最短路径,时间复杂度为n^2\n",
    "\n",
    "2.Floyd:初始化距离矩阵,时间复杂度为n^3\n",
    "\n",
    "3.图论工具Networkx"
   ]
  },
  {
   "cell_type": "code",
   "execution_count": null,
   "metadata": {},
   "outputs": [],
   "source": [
    "二.推荐系统的架构\n",
    "\n",
    "1.召回:从大量的物品集中生成候选集(20-30项)\n",
    "    \n",
    "2.排序:结合候选集和用户的行为进行排序,生成推荐"
   ]
  },
  {
   "cell_type": "code",
   "execution_count": null,
   "metadata": {},
   "outputs": [],
   "source": [
    "三.常用的推荐算法及原理\n",
    "\n",
    "1.基于邻域的协同过滤:\n",
    "    \n",
    "    可以分为:基于物品的推荐(静态),和基于用户行为的推荐(动态),原理是计算相似度\n",
    "    \n",
    "2.基于模型的推荐: \n",
    "    \n",
    "    常用的有矩阵分解(FM)和LDA(隐语义模型);贝叶斯网络模型;和支持向量机(SVM)\n",
    "    \n",
    "3.基于图论的推荐算法:LPA(对用户群进行聚类)做出用户画像"
   ]
  }
 ],
 "metadata": {
  "kernelspec": {
   "display_name": "Python 3",
   "language": "python",
   "name": "python3"
  },
  "language_info": {
   "codemirror_mode": {
    "name": "ipython",
    "version": 3
   },
   "file_extension": ".py",
   "mimetype": "text/x-python",
   "name": "python",
   "nbconvert_exporter": "python",
   "pygments_lexer": "ipython3",
   "version": "3.7.4"
  }
 },
 "nbformat": 4,
 "nbformat_minor": 2
}
