{
 "cells": [
  {
   "cell_type": "markdown",
   "metadata": {},
   "source": [
    "# 一.监督学习 半监督学习 无监督学习 强化学习\n",
    "\n",
    "1.区别:\n",
    "机器学习,根据数据集有没有标签区分,全部有标签:监督学习;全部无标签,无监督学习;\n",
    "只有少量标签,半监督学习;强化学习是无监督学习的一种\n",
    "\n",
    "2.成本\n",
    "监督学习,数据标注成本太高,已经不能适应今天这样一个大数据时代;即使这样,监督学习应用领域广泛,今天仍是机器学习的基础\n",
    "半监督学习,在只有少量数据标注的情况下,也可以大幅提高预测的准确性,成本大幅降低;\n",
    "\n",
    "3.举例\n",
    "监督学习:\n",
    "NaiveBayes, SVM,CART,KNN,LR\n",
    "\n",
    "半监督学习\n",
    "半监督学习,在标注数据样本数量少的程况下,同样可以采用监督学习的方法获得高的准确率,同时成本更低;\n",
    "\n",
    "无监督学习:\n",
    "KMeans,ExpectationMaxinization, RandomForests,Principal Components Analysis,Autoencoding\n",
    "generative adversarial networks\n",
    "\n",
    "4.使用方法:\n",
    "监督学习:使用已知正确答案的示例来训练和调优模型,分为四步:1.创建数据集和分类标签;2.训练;3.验证;4.部署应用\n",
    "训练模型需要使用目标函数,来量化预测结果与真实结果之间的偏差,也被称为损失函数/成本函数/效用函数\n",
    "\n",
    "无监督学习:采用输入值,尝试查找数据的模型,如聚类和查找异常值(异常检测);例如服装厂将体型的测量数据进行聚类,分为S,M,L,XL;"
   ]
  },
  {
   "cell_type": "code",
   "execution_count": null,
   "metadata": {},
   "outputs": [],
   "source": [
    "二.KMeans的取值方法\n",
    "\n",
    "有很多种方法;如果用函数表示,则在极值的附近选取;"
   ]
  },
  {
   "cell_type": "code",
   "execution_count": null,
   "metadata": {},
   "outputs": [],
   "source": [
    "三.随机森林的Bagging\n",
    "\n",
    "1.Bagging的概念\n",
    "Bagging 是指每个弱学习器的训练集是随机采样得到的;通过T次随机采样,得到T个训练集,对T个训练集分别独立的训练,得到T个弱学习器;\n",
    "再对T个弱学习器进行集合策略,得到强的学习器;\n",
    "每次随机采集的样本放入训练集,接着把该样本放回,进行下一次的采样;Bagging每次都进行采样来训练模型,因此泛华能力强,对降低方差很有作用;\n",
    "\n",
    "2.随机森林\n",
    "随机森林,是在Bagging的样本随机采样的基础上,又加上了特征的随机选择"
   ]
  },
  {
   "cell_type": "code",
   "execution_count": null,
   "metadata": {},
   "outputs": [],
   "source": [
    "四.主动学习和半监督学习\n",
    "\n",
    "主动学习和半监督学习,都是标注样本数量比较少的情况下进行学习,从而得到预测模型;\n",
    "不同的是标注样本的选择方式不一样:主动学习是由机器有策略地选择样本,由专家进行标注,通常是选取价值大的样本进行人工标注;\n",
    "半监督学习,已经标注的数据样本是随机的或者人工选择的,对于模型训练效用差异大,从而导致预测的准确率不如主动学习高."
   ]
  }
 ],
 "metadata": {
  "kernelspec": {
   "display_name": "Python 3",
   "language": "python",
   "name": "python3"
  },
  "language_info": {
   "codemirror_mode": {
    "name": "ipython",
    "version": 3
   },
   "file_extension": ".py",
   "mimetype": "text/x-python",
   "name": "python",
   "nbconvert_exporter": "python",
   "pygments_lexer": "ipython3",
   "version": "3.7.4"
  }
 },
 "nbformat": 4,
 "nbformat_minor": 2
}
