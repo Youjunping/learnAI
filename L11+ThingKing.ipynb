{
 "cells": [
  {
   "cell_type": "code",
   "execution_count": null,
   "metadata": {},
   "outputs": [],
   "source": [
    "一.什么是Graph Embedding，都有哪些算法模型\n",
    "\n",
    "将现实世界中的许多场景抽象为图结构,如社交网络,交通网络,用户与物品的关系等,而把图中的节点以低维向量的形式进行表达,\n",
    "即是Graph Embedding技术;\n",
    "\n",
    "原始图中相似的节点在低维表达的空间也相似,相似度的定义,不同算法有不同的定义;得到的表达向量用于后续的任务\n",
    "\n",
    "算法模型:\n",
    "\n",
    "1.DeepWalk: 以随机游走的方式采样生成序列,利用传统的word2vec的方法生成Embedding\n",
    "    \n",
    "2.LINE: 将一阶,二阶的邻近关系引入目标函数,使得Embedding的分布更均衡平滑\n",
    "    \n",
    "3.Node2vec: 在DeepWalk基础上,结合广度优先和深度优先,能够分别表达局部结构和整体结构\n",
    "    \n",
    "4.SDNE: 通过目标函数的设计解决局部结构和整体结构的问题,一次性的进行整体优化\n",
    "    \n",
    "5.EGES: 引入sideinformation解决冷启动问题"
   ]
  },
  {
   "cell_type": "code",
   "execution_count": null,
   "metadata": {},
   "outputs": [],
   "source": [
    "二.如何将Graph Embedding应用于推荐系统，比如NetFlix 电影推荐\n",
    "\n",
    "用户行为的稀疏,显式反馈少,以及对于数据量级大的item,可以通过种子用户的观看行为学习出item的图网络结构,\n",
    "形成item的graphembedding特征,结合搜索记录,第一步:形成候选集;第二步:结合用户的embedding形成排序;\n",
    "第三步:结合其他来源的浏览行为输出推荐结果"
   ]
  },
  {
   "cell_type": "code",
   "execution_count": null,
   "metadata": {},
   "outputs": [],
   "source": [
    "三.数据探索EDA都有常用的方法和工具\n",
    "\n",
    "1.value_counts:dataframe统计不同值得个数\n",
    "2.isnull: df.isnull().any(),判断是否存在缺失值\n",
    "          df.isnull().sum(),判断列的缺失值总数\n",
    "3.isin\n",
    "4.missingno:将缺失值可视化"
   ]
  }
 ],
 "metadata": {
  "kernelspec": {
   "display_name": "TensorFlow 1.13.1",
   "language": "python",
   "name": "tensorflow"
  },
  "language_info": {
   "codemirror_mode": {
    "name": "ipython",
    "version": 3
   },
   "file_extension": ".py",
   "mimetype": "text/x-python",
   "name": "python",
   "nbconvert_exporter": "python",
   "pygments_lexer": "ipython3",
   "version": "3.6.12"
  }
 },
 "nbformat": 4,
 "nbformat_minor": 4
}
