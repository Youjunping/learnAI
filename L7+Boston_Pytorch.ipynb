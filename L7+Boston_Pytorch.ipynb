{
 "cells": [
  {
   "cell_type": "code",
   "execution_count": 1,
   "metadata": {},
   "outputs": [],
   "source": [
    "\n",
    "import torch\n",
    "import torch.nn as nn\n",
    "import numpy as np\n",
    "\n",
    "from sklearn.datasets import load_boston\n",
    "from sklearn.model_selection import train_test_split\n",
    "from sklearn.preprocessing import MinMaxScaler\n",
    "from sklearn.preprocessing import StandardScaler"
   ]
  },
  {
   "cell_type": "code",
   "execution_count": 2,
   "metadata": {},
   "outputs": [],
   "source": [
    "# 数据加载\n",
    "boston = load_boston()\n",
    "X = boston['data']\n",
    "y = boston['target']\n",
    "y = y.reshape(-1,1)"
   ]
  },
  {
   "cell_type": "code",
   "execution_count": 3,
   "metadata": {},
   "outputs": [],
   "source": [
    "# 数据规范化\n",
    "mm = MinMaxScaler()\n",
    "X = mm.fit_transform(X)\n",
    "# ss = StandardScaler()\n",
    "# X = ss.fit_transform(train_x)"
   ]
  },
  {
   "cell_type": "code",
   "execution_count": 4,
   "metadata": {},
   "outputs": [],
   "source": [
    "# 数据集切分\n",
    "X = torch.from_numpy(X).type(torch.FloatTensor)\n",
    "y = torch.from_numpy(y).type(torch.FloatTensor)\n",
    "train_x,test_x,train_y,test_y = train_test_split(X,y,test_size=0.2)"
   ]
  },
  {
   "cell_type": "code",
   "execution_count": 5,
   "metadata": {},
   "outputs": [],
   "source": [
    "# 定义模型\n",
    "model = nn.Sequential(\n",
    "        nn.Linear(13,10),\n",
    "        nn.ReLU(),\n",
    "        nn.Linear(10,1)\n",
    ")"
   ]
  },
  {
   "cell_type": "code",
   "execution_count": 6,
   "metadata": {},
   "outputs": [],
   "source": [
    "# 定义优化器和损失函数\n",
    "criterion = nn.MSELoss()\n",
    "optimizer = torch.optim.Adam(model.parameters(),lr = 0.01)"
   ]
  },
  {
   "cell_type": "code",
   "execution_count": 7,
   "metadata": {},
   "outputs": [],
   "source": [
    "# 训练\n",
    "max_epoch = 300\n",
    "iter_loss = []\n",
    "for i in range(max_epoch):\n",
    "#     前向传播\n",
    "    y_pred = model(train_x)\n",
    "    loss = criterion(y_pred,train_y)\n",
    "    iter_loss.append(loss.item())\n",
    "\n",
    "\n",
    "    # 梯度归零\n",
    "    optimizer.zero_grad()\n",
    "# 反向传播\n",
    "    loss.backward()\n",
    "# 权重更新\n",
    "    optimizer.step()\n"
   ]
  },
  {
   "cell_type": "code",
   "execution_count": 10,
   "metadata": {},
   "outputs": [
    {
     "data": {
      "text/plain": [
       "array([[ 4.4013157],\n",
       "       [17.275246 ],\n",
       "       [22.071428 ],\n",
       "       [27.844814 ],\n",
       "       [20.924715 ],\n",
       "       [ 7.4864054],\n",
       "       [23.04681  ],\n",
       "       [20.422985 ],\n",
       "       [15.594533 ],\n",
       "       [22.116524 ],\n",
       "       [22.109524 ],\n",
       "       [23.389503 ],\n",
       "       [35.63517  ],\n",
       "       [22.082247 ],\n",
       "       [20.283813 ],\n",
       "       [23.28138  ],\n",
       "       [24.313915 ],\n",
       "       [23.919098 ],\n",
       "       [18.989548 ],\n",
       "       [32.75903  ],\n",
       "       [20.147087 ],\n",
       "       [24.278519 ],\n",
       "       [25.72219  ],\n",
       "       [12.8668785],\n",
       "       [35.373604 ],\n",
       "       [19.1312   ],\n",
       "       [28.76294  ],\n",
       "       [31.115438 ],\n",
       "       [28.114191 ],\n",
       "       [22.845783 ],\n",
       "       [21.700277 ],\n",
       "       [22.398834 ],\n",
       "       [19.37061  ],\n",
       "       [23.423435 ],\n",
       "       [21.406422 ],\n",
       "       [22.644264 ],\n",
       "       [16.73739  ],\n",
       "       [33.622524 ],\n",
       "       [26.703796 ],\n",
       "       [10.594574 ],\n",
       "       [22.27253  ],\n",
       "       [24.140621 ],\n",
       "       [26.703262 ],\n",
       "       [16.854374 ],\n",
       "       [14.754661 ],\n",
       "       [ 8.791729 ],\n",
       "       [19.220938 ],\n",
       "       [20.834425 ],\n",
       "       [21.439098 ],\n",
       "       [27.266375 ],\n",
       "       [21.556438 ],\n",
       "       [19.042028 ],\n",
       "       [26.0658   ],\n",
       "       [28.081402 ],\n",
       "       [27.615269 ],\n",
       "       [23.396269 ],\n",
       "       [21.773848 ],\n",
       "       [27.146088 ],\n",
       "       [13.822605 ],\n",
       "       [21.830326 ],\n",
       "       [ 4.0572276],\n",
       "       [24.606667 ],\n",
       "       [17.752802 ],\n",
       "       [23.628286 ],\n",
       "       [25.851673 ],\n",
       "       [25.78323  ],\n",
       "       [26.10167  ],\n",
       "       [28.559803 ],\n",
       "       [24.09607  ],\n",
       "       [30.52416  ],\n",
       "       [21.073814 ],\n",
       "       [16.321032 ],\n",
       "       [34.2325   ],\n",
       "       [12.462887 ],\n",
       "       [20.08903  ],\n",
       "       [22.0924   ],\n",
       "       [20.379066 ],\n",
       "       [19.750534 ],\n",
       "       [22.250744 ],\n",
       "       [29.860735 ],\n",
       "       [23.942062 ],\n",
       "       [21.13121  ],\n",
       "       [15.3775425],\n",
       "       [23.379438 ],\n",
       "       [19.207777 ],\n",
       "       [ 8.581623 ],\n",
       "       [22.464338 ],\n",
       "       [26.242617 ],\n",
       "       [14.495572 ],\n",
       "       [27.065243 ],\n",
       "       [21.228325 ],\n",
       "       [22.154829 ],\n",
       "       [26.77939  ],\n",
       "       [25.166534 ],\n",
       "       [13.790178 ],\n",
       "       [21.609224 ],\n",
       "       [24.081371 ],\n",
       "       [23.740822 ],\n",
       "       [31.90057  ],\n",
       "       [29.96268  ],\n",
       "       [22.333208 ],\n",
       "       [19.111248 ]], dtype=float32)"
      ]
     },
     "execution_count": 10,
     "metadata": {},
     "output_type": "execute_result"
    }
   ],
   "source": [
    "# 测试\n",
    "output = model(test_x)\n",
    "pred_ = output.detach().numpy()\n",
    "pred_"
   ]
  },
  {
   "cell_type": "code",
   "execution_count": 9,
   "metadata": {},
   "outputs": [
    {
     "ename": "NameError",
     "evalue": "name 'plt' is not defined",
     "output_type": "error",
     "traceback": [
      "\u001b[1;31m---------------------------------------------------------------------------\u001b[0m",
      "\u001b[1;31mNameError\u001b[0m                                 Traceback (most recent call last)",
      "\u001b[1;32m<ipython-input-9-1c45a6bedc5d>\u001b[0m in \u001b[0;36m<module>\u001b[1;34m\u001b[0m\n\u001b[0;32m      4\u001b[0m \u001b[0mx\u001b[0m \u001b[1;33m=\u001b[0m \u001b[0mnp\u001b[0m\u001b[1;33m.\u001b[0m\u001b[0marange\u001b[0m\u001b[1;33m(\u001b[0m\u001b[0mmax_epoch\u001b[0m\u001b[1;33m)\u001b[0m\u001b[1;33m\u001b[0m\u001b[1;33m\u001b[0m\u001b[0m\n\u001b[0;32m      5\u001b[0m \u001b[0my\u001b[0m \u001b[1;33m=\u001b[0m \u001b[0mnp\u001b[0m\u001b[1;33m.\u001b[0m\u001b[0marray\u001b[0m\u001b[1;33m(\u001b[0m\u001b[0miter_loss\u001b[0m\u001b[1;33m)\u001b[0m\u001b[1;33m\u001b[0m\u001b[1;33m\u001b[0m\u001b[0m\n\u001b[1;32m----> 6\u001b[1;33m \u001b[0mplt\u001b[0m\u001b[1;33m.\u001b[0m\u001b[0mplot\u001b[0m\u001b[1;33m(\u001b[0m\u001b[0mx\u001b[0m\u001b[1;33m,\u001b[0m\u001b[0my\u001b[0m\u001b[1;33m)\u001b[0m\u001b[1;33m\u001b[0m\u001b[1;33m\u001b[0m\u001b[0m\n\u001b[0m\u001b[0;32m      7\u001b[0m \u001b[0mplt\u001b[0m\u001b[1;33m.\u001b[0m\u001b[0mtitle\u001b[0m\u001b[1;33m(\u001b[0m\u001b[1;34m'Loss Value'\u001b[0m\u001b[1;33m)\u001b[0m\u001b[1;33m\u001b[0m\u001b[1;33m\u001b[0m\u001b[0m\n\u001b[0;32m      8\u001b[0m \u001b[0mplt\u001b[0m\u001b[1;33m.\u001b[0m\u001b[0mxlabel\u001b[0m\u001b[1;33m(\u001b[0m\u001b[1;34m'iteration'\u001b[0m\u001b[1;33m)\u001b[0m\u001b[1;33m\u001b[0m\u001b[1;33m\u001b[0m\u001b[0m\n",
      "\u001b[1;31mNameError\u001b[0m: name 'plt' is not defined"
     ]
    }
   ],
   "source": [
    "# 绘制loss图形\n",
    "\n",
    "\n",
    "x = np.arange(max_epoch)\n",
    "y = np.array(iter_loss)\n",
    "plt.plot(x,y)\n",
    "plt.title('Loss Value')\n",
    "plt.xlabel('iteration')\n",
    "plt.ylabel('loss')\n",
    "plt.show"
   ]
  },
  {
   "cell_type": "code",
   "execution_count": null,
   "metadata": {},
   "outputs": [],
   "source": [
    "\n"
   ]
  },
  {
   "cell_type": "code",
   "execution_count": null,
   "metadata": {},
   "outputs": [],
   "source": []
  },
  {
   "cell_type": "code",
   "execution_count": null,
   "metadata": {},
   "outputs": [],
   "source": []
  }
 ],
 "metadata": {
  "kernelspec": {
   "display_name": "Python 3",
   "language": "python",
   "name": "python3"
  },
  "language_info": {
   "codemirror_mode": {
    "name": "ipython",
    "version": 3
   },
   "file_extension": ".py",
   "mimetype": "text/x-python",
   "name": "python",
   "nbconvert_exporter": "python",
   "pygments_lexer": "ipython3",
   "version": "3.6.12"
  }
 },
 "nbformat": 4,
 "nbformat_minor": 2
}
