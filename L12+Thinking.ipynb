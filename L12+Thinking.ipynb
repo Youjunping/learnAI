{
 "cells": [
  {
   "cell_type": "code",
   "execution_count": null,
   "metadata": {},
   "outputs": [],
   "source": [
    "一:GCN/Graph Embedding 都有哪些应用场景\n",
    "    \n",
    "1.推荐系统\n",
    "可以分别用user,items各自的关系网络,形成graph结构,作特征提取,用于个性化推荐的召回\n",
    "\n",
    "2.信息流广告\n",
    "基于社交网略的关系网略,提取Embedding特征,根据相似度,进行广告的召回和推荐\n",
    "\n",
    "3.知识图谱\n",
    "根据知识或专利的引用关系,建立知识的图网略;或根据知识的发展/演化过程,建立图网略,提取特征,分析文本的相似度,用于检索\n",
    "\n",
    "4.其它\n",
    "交通网略,生物网略,金融系统等"
   ]
  },
  {
   "cell_type": "code",
   "execution_count": null,
   "metadata": {},
   "outputs": [],
   "source": [
    "二.在交通流量预测中，如何使用Graph Embedding\n",
    "\n",
    "1.定义网络道路 G(V,E,A)\n",
    "                V:路口节点\n",
    "                E:边\n",
    "                A:加权邻接矩阵\n",
    "2.卷积核对空间和时间维度进行卷积操作,时间与车速有关联\n",
    "3.用GCN提取Embedding特征"
   ]
  },
  {
   "cell_type": "code",
   "execution_count": null,
   "metadata": {},
   "outputs": [],
   "source": [
    "三.在文本分类中，如何使用Graph Embedding\n",
    "\n",
    "利用文本语料建立图网络,节点可以是文档和词汇,也可以是句子和词汇;\n",
    "特征矩阵,每个节点的向量用one-hot编码表示,权重用TF-IDF表示\n",
    "用softmax构建GCN层,将文档分类问题转为图节点分类问题"
   ]
  }
 ],
 "metadata": {
  "kernelspec": {
   "display_name": "Python 3",
   "language": "python",
   "name": "python3"
  },
  "language_info": {
   "codemirror_mode": {
    "name": "ipython",
    "version": 3
   },
   "file_extension": ".py",
   "mimetype": "text/x-python",
   "name": "python",
   "nbconvert_exporter": "python",
   "pygments_lexer": "ipython3",
   "version": "3.6.12"
  }
 },
 "nbformat": 4,
 "nbformat_minor": 4
}
