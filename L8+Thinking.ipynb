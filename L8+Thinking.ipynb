{
 "cells": [
  {
   "cell_type": "code",
   "execution_count": null,
   "metadata": {},
   "outputs": [],
   "source": [
    "Thinking1:时间数据库\n",
    "    \n",
    "1.数据库中包含时间序列,称为时间数据库,可对时间维度(X)进行分析\n",
    "2.现在最主要的数据为移动数据,可对时间/位置随时采集数据,所以时序数据库称为越来越重要"
   ]
  },
  {
   "cell_type": "code",
   "execution_count": null,
   "metadata": {},
   "outputs": [],
   "source": [
    "Thinking2:BCG矩阵\n",
    "\n",
    "1.四象限:明星,金牛,问题,廋狗\n",
    "2.相应决策:明星:重点发展;金牛:提供现金流,巩固提高;问题:联合收购;廋狗:处理卖出"
   ]
  }
 ],
 "metadata": {
  "kernelspec": {
   "display_name": "Python 3",
   "language": "python",
   "name": "python3"
  },
  "language_info": {
   "codemirror_mode": {
    "name": "ipython",
    "version": 3
   },
   "file_extension": ".py",
   "mimetype": "text/x-python",
   "name": "python",
   "nbconvert_exporter": "python",
   "pygments_lexer": "ipython3",
   "version": "3.7.4"
  }
 },
 "nbformat": 4,
 "nbformat_minor": 2
}
