{
 "cells": [
  {
   "cell_type": "code",
   "execution_count": null,
   "metadata": {},
   "outputs": [],
   "source": [
    "1.Thinking 高德地图的路径规划原理\n",
    "\n",
    "路径的最优规划可采用三种算法:最短距离,最小用时,最小红灯,原理如下:\n",
    "1)把地图抽象成图结构,每个岔路口看做一个顶点,路口之间看作一条边,路径规划问题可转换成有向图中两个点的最短距离\n",
    "2)将边的长度换成经过这条边的时间,可以计算最小用时\n",
    "3)将经过的每个红灯赋值为1,计算规划方案经过的红灯数最小值\n",
    "\n",
    "实现:\n",
    "采用Dijkstra动态规划算法,用两个集合,将依次迭代更新的最小值(最优值),放入目标列表中"
   ]
  },
  {
   "cell_type": "code",
   "execution_count": null,
   "metadata": {},
   "outputs": [],
   "source": [
    "2.Thinking football.gml 数据集,12联盟用LPA只发现11个社区\n",
    "\n",
    "12联盟是静态的划分,是物理属性;\n",
    "LPA进行标签传播基于各队的比赛行为,是动态属性,两者是静态与动态的区别,结果不同是正常的"
   ]
  },
  {
   "cell_type": "code",
   "execution_count": null,
   "metadata": {},
   "outputs": [],
   "source": [
    "3.Thingking 微博的信息流设计(EdgeRank 算法)\n",
    "\n",
    "信息流广告,按用户群画像与内容精准匹配/提高点击率,采用EdgeRank算法可以对博主的影响力进行打分排序,\n",
    "根据一下维度进行加权:一.粉丝数 二.与粉丝的亲密度(互动频率和深度) 三.文章的内容(质量)四.文章是否原创,\n",
    "即对有向有权边进行权重计算,从而对博主影响力进行排序,对影响力大的博主和文章进行重点推广\n"
   ]
  }
 ],
 "metadata": {
  "kernelspec": {
   "display_name": "Python 3",
   "language": "python",
   "name": "python3"
  },
  "language_info": {
   "codemirror_mode": {
    "name": "ipython",
    "version": 3
   },
   "file_extension": ".py",
   "mimetype": "text/x-python",
   "name": "python",
   "nbconvert_exporter": "python",
   "pygments_lexer": "ipython3",
   "version": "3.7.4"
  }
 },
 "nbformat": 4,
 "nbformat_minor": 2
}
