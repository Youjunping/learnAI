{
 "cells": [
  {
   "cell_type": "markdown",
   "metadata": {},
   "source": [
    "# 一.ALS应用场景\n",
    "\n",
    "ALS的矩阵分解算法经常应用到推荐系统,将用户(user)对商品(item)的评分矩阵,分解为用户对隐含特征的偏好矩阵,和商品在隐含特征上的映射矩阵;\n",
    "通过找到两个低维稠密矩阵.以两个矩阵的乘积来逼近目标矩阵.\n",
    "\n",
    "用户对大多数商品没有反馈偏好的的情况下,在损失函数中加入置信度的权重,对于确信用户偏好的项赋予较大的权重，对于没有反馈的项，赋予较小的权重."
   ]
  },
  {
   "cell_type": "markdown",
   "metadata": {},
   "source": [
    "# 二.ALS进行矩阵分解,分什么可以并行处理\n",
    "\n",
    "使用的数据之间相互独立,用户对商品的评分矩阵中各个元素之间没有相互依赖,所以可以采用并行处理提高矩阵的运算效率;\n",
    ";"
   ]
  },
  {
   "cell_type": "markdown",
   "metadata": {},
   "source": [
    "# 三.梯度下降的三种方法间的区别\n",
    "\n",
    "区别在于采用样本的数量不同\n",
    "批量梯度下降(BGD),采用全样本(batch size),结果的稳定性最好,但是效率最低;\n",
    "随机梯度下降(SGD),采用随机的单个样本,效率最高,但稳定性最差;\n",
    "小批量梯度下降,采用一批样本,兼顾效率和稳定性;\n",
    "\n"
   ]
  },
  {
   "cell_type": "markdown",
   "metadata": {},
   "source": [
    "# Action2:\n",
    "\n",
    "\n",
    "Slope One 算法,基于评分差的平均这一简单的指标,应用于协同过滤,就可以达到跟基于内存的方法接近的准确率,在两个数据库中进行了验证;\n",
    "\n",
    "该方法具有明显的优点:\n",
    "\n",
    "1.简单易用\n",
    "\n",
    "2.动态可调\n",
    "\n",
    "3.效率高\n",
    "\n",
    "4.不依赖访问者\n",
    "\n",
    "5.可比的准确率"
   ]
  }
 ],
 "metadata": {
  "kernelspec": {
   "display_name": "Python 3",
   "language": "python",
   "name": "python3"
  },
  "language_info": {
   "codemirror_mode": {
    "name": "ipython",
    "version": 3
   },
   "file_extension": ".py",
   "mimetype": "text/x-python",
   "name": "python",
   "nbconvert_exporter": "python",
   "pygments_lexer": "ipython3",
   "version": "3.7.4"
  }
 },
 "nbformat": 4,
 "nbformat_minor": 2
}
