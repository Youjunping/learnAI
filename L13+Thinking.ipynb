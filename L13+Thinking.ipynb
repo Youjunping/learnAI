{
 "cells": [
  {
   "cell_type": "markdown",
   "metadata": {},
   "source": [
    "# 一. KNN与KMeans中的K分别代表什么？\n",
    "\n",
    "KNN:K近邻,从样本X附近找出离它最近的K个数据点;数据集带标签,基本无训练,是基于Memory的监督学习方法,算法复杂度为N\n",
    "KMeans:K代表预设的类别个数(初始化参数,依赖于经验),K个中心点是数据集中随机抽取的,K值可以手肘法确定(数据集无标签,为无监督学习的聚类方法),算法复杂度N*K*T(迭代次数)"
   ]
  },
  {
   "cell_type": "markdown",
   "metadata": {},
   "source": [
    "# 二.都有哪些常用的启发式算法？\n",
    "\n",
    "启发式算法有:模拟退火算法,遗传算法,人工神经网络,蚁群算法;相对最优算法而言的,是在一定时间内找到相对比较好的解,常用于NP-hard问题"
   ]
  },
  {
   "cell_type": "markdown",
   "metadata": {},
   "source": [
    "# 三.遗传算法的原理\n",
    "\n",
    "遗传算法借鉴了自然界的生物遗传的规律,首先是对变量进行编码(有二进制/浮点/符号编码),然后再进过选择种群,遗传,变异等过程,用适应度函数代替自然选择,能自适应的调整搜索空间和方向,可以用于神经网络架构搜索(NAS)"
   ]
  }
 ],
 "metadata": {
  "kernelspec": {
   "display_name": "Python 3",
   "language": "python",
   "name": "python3"
  },
  "language_info": {
   "codemirror_mode": {
    "name": "ipython",
    "version": 3
   },
   "file_extension": ".py",
   "mimetype": "text/x-python",
   "name": "python",
   "nbconvert_exporter": "python",
   "pygments_lexer": "ipython3",
   "version": "3.7.4"
  }
 },
 "nbformat": 4,
 "nbformat_minor": 2
}
