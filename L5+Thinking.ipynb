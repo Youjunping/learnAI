{
 "cells": [
  {
   "cell_type": "markdown",
   "metadata": {},
   "source": [
    "# Thinking1:实际工作中,FM 和 MF 哪个用到的更多,为什么?\n",
    "\n",
    "两个模型都适用于稀疏特征的情况,可以学习到特征之间隐藏的交互关系;\n",
    "\n",
    "FM考虑了二元特征间的相互影响,通常只考虑特征两两之间的影响;\n",
    "打破了特征的独立性,能够更好地挖掘特征之间的相关性,所以FM应用更广;\n",
    "FM可以应用到回归/分类/排序等各种预测任务\n",
    "\n",
    "MF作为一种思想被广泛的使用,但是作为一种方法,在实际工作中很难用到,因为它只考虑两个特征,其它更多的特征被忽略了;"
   ]
  },
  {
   "cell_type": "markdown",
   "metadata": {},
   "source": [
    "# Thinking2:FFM 和 FM 有哪些区别?\n",
    "\n",
    "\n",
    "FM可以看做是FFM的特例,把所有特征都归属到一个field时,FFM就变成了FM;\n",
    "\n",
    "FM模型,每一维特征的隐向量只有一个;假设样本的n维特征有f个field,隐向量的长度为k,FFM的二次项参数为nfk个,FM的二次项参数为nk个;\n",
    "\n",
    "FFM模型,由于隐向量与field相关,二次项不能够化简,为了使用FFM模型,所有的特征必须转换成\"field_id:feat_id:value\"格式;\n",
    "在FFM的模型训练过程中,需要:一.默认对样本数据进行归一化;二.对原数值型特征特征归一化;"
   ]
  },
  {
   "cell_type": "markdown",
   "metadata": {},
   "source": [
    "# DeepFM相比于FM解决了哪些问题，原理是怎样的\n",
    "\n",
    "DeepFM原理是 FM + DNN ,利用FM预训练将稀疏特征稠密化,实现Embedding降维,为DNN减少计算量;然后再DNN,利用神经网略对隐含特征的挖掘能力,主要解决高阶的隐含特征;\n",
    "\n",
    "DeepFM解决了稀疏特征和高阶特征的问题,同时计算量增加在可接受范围,提高了FM模型的泛化能力;\n",
    "适用于广告点击的预测"
   ]
  },
  {
   "cell_type": "markdown",
   "metadata": {},
   "source": [
    "# Surprise工具中的baseline算法原理是怎样的？BaselineOnly和KNNBaseline有什么区别？\n",
    "\n",
    "baseline算法的原理,是设立一个基准线,并引入user和item 两个维度对基准线的相对偏差Bu 和 Bi\n",
    "模型虽然简单,但已经包含了用户和物品两个维度的个性化信息,在数据量大的情况下,能够减少大量的计算时间;\n",
    "\n",
    "baselineOnly是采用单一的baseline,只考虑了对全部样本的偏差;KNNBaseline结合了KNN的K近邻算法,增加了相似度,引入了对具体物品的偏差; "
   ]
  },
  {
   "cell_type": "markdown",
   "metadata": {},
   "source": [
    "# 基于邻域的协同过滤都有哪些算法，请简述原理\n",
    "\n",
    "基于邻域的协同过滤主要分为两类:基于用户的协同过滤,推荐和他兴趣相似的其它用户喜欢的物品\n",
    "                     基于物品的协同过滤,推荐和他之前喜欢的物品相似的物品\n",
    "                    \n",
    "基于用户的原理:用Jaccard 公式 或 余弦相似度 计算用户相似度,然后推荐和他最相似的K个用户喜欢的物品;\n",
    "基于物品的原理:通过计算得到物品的相似度后,计算用户对一个物品J的兴趣Puj\n",
    "\n",
    "主要算法:KNNBasic,KNNWithmMeans,KNNWithZScore,KNNBaseline,区别在偏差计算时用均值/baseline;"
   ]
  }
 ],
 "metadata": {
  "kernelspec": {
   "display_name": "Python 3",
   "language": "python",
   "name": "python3"
  },
  "language_info": {
   "codemirror_mode": {
    "name": "ipython",
    "version": 3
   },
   "file_extension": ".py",
   "mimetype": "text/x-python",
   "name": "python",
   "nbconvert_exporter": "python",
   "pygments_lexer": "ipython3",
   "version": "3.7.4"
  }
 },
 "nbformat": 4,
 "nbformat_minor": 2
}
